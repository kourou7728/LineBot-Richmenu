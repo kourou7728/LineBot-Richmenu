{
 "cells": [
  {
   "cell_type": "code",
   "execution_count": null,
   "metadata": {},
   "outputs": [],
   "source": [
    "from linebot import LineBotApi, WebhookHandler\n",
    "line_bot_api = LineBotApi('ACCESS_TOKEN')\n",
    "richmenuID = 'RichmenuID'"
   ]
  },
  {
   "cell_type": "code",
   "execution_count": null,
   "metadata": {},
   "outputs": [],
   "source": [
    "import requests\n",
    "import json\n",
    "# 設定 headers，輸入你的 Access Token，記得前方要加上「Bearer 」( 有一個空白 )\n",
    "headers = {'Authorization':f'Bearer {line_bot_api}','Content-Type':'application/json'}\n",
    "\n",
    "body = {\n",
    "    'size': {'width': 2500, 'height': 843},   # 設定尺寸\n",
    "    'selected': 'true',                        # 預設是否顯示\n",
    "    'name': 'a',                   # 選單名稱Q\n",
    "    'chatBarText': 'Hello World',            # 選單在 LINE 顯示的標題\n",
    "    'areas':[                                  # 選單內容\n",
    "        {\n",
    "          'bounds': {'x': 0, 'y': 0, 'width': 843, 'height': 843}, # 選單位置與大小\n",
    "          'action': {'type': 'message', 'text': '自我介紹'}         # 點擊後傳送文字    \n",
    "        },\n",
    "        {\n",
    "          'bounds': {'x': 843, 'y': 0, 'width': 843, 'height': 843}, # 選單位置與大小\n",
    "          'action': {'type': 'message', 'text': '作品集'}         # 點擊後傳送文字    \n",
    "        },\n",
    "        {\n",
    "          'bounds': {'x': 1686, 'y': 0, 'width': 843, 'height': 843}, # 選單位置與大小\n",
    "          'action': {'type': 'richmenuswitch', 'richMenuAliasId': 'b', 'data':'change-to-b'}         # 點擊後傳送文字    \n",
    "        }\n",
    "    ]\n",
    "  }\n",
    "# 向指定網址發送 request\n",
    "req = requests.request('POST', 'https://api.line.me/v2/bot/richmenu',\n",
    "                      headers=headers,data=json.dumps(body).encode('utf-8'))\n",
    "# 印出得到的結果 --> 會有richmenuID\n",
    "print(req.text)"
   ]
  },
  {
   "cell_type": "code",
   "execution_count": null,
   "metadata": {},
   "outputs": [],
   "source": [
    "#設置圖片\n",
    "with open(\"./menuT.png\", 'rb') as f:\n",
    "    line_bot_api.set_rich_menu_image(richmenuID, \"image/png\", f)"
   ]
  },
  {
   "cell_type": "code",
   "execution_count": null,
   "metadata": {},
   "outputs": [],
   "source": [
    "#綁ID\n",
    "import requests\n",
    "import json\n",
    "headers = {'Authorization':f'Bearer {line_bot_api}','Content-Type':'application/json'}\n",
    "body = {\n",
    "    \"richMenuAliasId\":\"a\",\n",
    "    \"richMenuId\":richmenuID\n",
    "}\n",
    "req = requests.request('POST', 'https://api.line.me/v2/bot/richmenu/alias',\n",
    "                      headers=headers,data=json.dumps(body).encode('utf-8'))\n",
    "print(req.text)"
   ]
  },
  {
   "cell_type": "code",
   "execution_count": null,
   "metadata": {},
   "outputs": [],
   "source": [
    "#綁\n",
    "import requests\n",
    "headers = {'Authorization':f'Bearer {line_bot_api}','Content-Type':'application/json'}\n",
    "req = requests.request('POST', f'https://api.line.me/v2/bot/user/all/richmenu/{richmenuID}', headers=headers)\n",
    "print(req.text)"
   ]
  }
 ],
 "metadata": {
  "language_info": {
   "name": "python"
  },
  "orig_nbformat": 4
 },
 "nbformat": 4,
 "nbformat_minor": 2
}
